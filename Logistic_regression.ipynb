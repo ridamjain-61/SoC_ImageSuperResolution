{
 "cells": [
  {
   "cell_type": "markdown",
   "id": "f24a56df-eeb8-45bb-b2a3-5554761a72f0",
   "metadata": {},
   "source": [
    "<h1>Logistic Regression for prediction of Coronary Heart Disease.</h1>"
   ]
  },
  {
   "cell_type": "code",
   "execution_count": 11,
   "id": "2d99d301-2850-4a25-9380-dcd52256a17c",
   "metadata": {},
   "outputs": [],
   "source": [
    "import pandas as pd\n",
    "import numpy as np\n",
    "from sklearn.preprocessing import StandardScaler\n",
    "from sklearn.model_selection import train_test_split"
   ]
  },
  {
   "cell_type": "markdown",
   "id": "c22e2907",
   "metadata": {},
   "source": [
    "<h1>Loading the Data.</h1>"
   ]
  },
  {
   "cell_type": "code",
   "execution_count": 13,
   "id": "2e7812af-5e4c-46ee-a4ca-bc7ebdea9cc5",
   "metadata": {},
   "outputs": [
    {
     "data": {
      "text/html": [
       "<div>\n",
       "<style scoped>\n",
       "    .dataframe tbody tr th:only-of-type {\n",
       "        vertical-align: middle;\n",
       "    }\n",
       "\n",
       "    .dataframe tbody tr th {\n",
       "        vertical-align: top;\n",
       "    }\n",
       "\n",
       "    .dataframe thead th {\n",
       "        text-align: right;\n",
       "    }\n",
       "</style>\n",
       "<table border=\"1\" class=\"dataframe\">\n",
       "  <thead>\n",
       "    <tr style=\"text-align: right;\">\n",
       "      <th></th>\n",
       "      <th>male</th>\n",
       "      <th>age</th>\n",
       "      <th>education</th>\n",
       "      <th>currentSmoker</th>\n",
       "      <th>cigsPerDay</th>\n",
       "      <th>BPMeds</th>\n",
       "      <th>prevalentStroke</th>\n",
       "      <th>prevalentHyp</th>\n",
       "      <th>diabetes</th>\n",
       "      <th>totChol</th>\n",
       "      <th>sysBP</th>\n",
       "      <th>diaBP</th>\n",
       "      <th>BMI</th>\n",
       "      <th>heartRate</th>\n",
       "      <th>glucose</th>\n",
       "      <th>TenYearCHD</th>\n",
       "    </tr>\n",
       "  </thead>\n",
       "  <tbody>\n",
       "    <tr>\n",
       "      <th>0</th>\n",
       "      <td>1</td>\n",
       "      <td>39</td>\n",
       "      <td>4.0</td>\n",
       "      <td>0</td>\n",
       "      <td>0.0</td>\n",
       "      <td>0.0</td>\n",
       "      <td>0</td>\n",
       "      <td>0</td>\n",
       "      <td>0</td>\n",
       "      <td>195.0</td>\n",
       "      <td>106.0</td>\n",
       "      <td>70.0</td>\n",
       "      <td>26.97</td>\n",
       "      <td>80.0</td>\n",
       "      <td>77.0</td>\n",
       "      <td>0</td>\n",
       "    </tr>\n",
       "    <tr>\n",
       "      <th>1</th>\n",
       "      <td>0</td>\n",
       "      <td>46</td>\n",
       "      <td>2.0</td>\n",
       "      <td>0</td>\n",
       "      <td>0.0</td>\n",
       "      <td>0.0</td>\n",
       "      <td>0</td>\n",
       "      <td>0</td>\n",
       "      <td>0</td>\n",
       "      <td>250.0</td>\n",
       "      <td>121.0</td>\n",
       "      <td>81.0</td>\n",
       "      <td>28.73</td>\n",
       "      <td>95.0</td>\n",
       "      <td>76.0</td>\n",
       "      <td>0</td>\n",
       "    </tr>\n",
       "    <tr>\n",
       "      <th>2</th>\n",
       "      <td>1</td>\n",
       "      <td>48</td>\n",
       "      <td>1.0</td>\n",
       "      <td>1</td>\n",
       "      <td>20.0</td>\n",
       "      <td>0.0</td>\n",
       "      <td>0</td>\n",
       "      <td>0</td>\n",
       "      <td>0</td>\n",
       "      <td>245.0</td>\n",
       "      <td>127.5</td>\n",
       "      <td>80.0</td>\n",
       "      <td>25.34</td>\n",
       "      <td>75.0</td>\n",
       "      <td>70.0</td>\n",
       "      <td>0</td>\n",
       "    </tr>\n",
       "    <tr>\n",
       "      <th>3</th>\n",
       "      <td>0</td>\n",
       "      <td>61</td>\n",
       "      <td>3.0</td>\n",
       "      <td>1</td>\n",
       "      <td>30.0</td>\n",
       "      <td>0.0</td>\n",
       "      <td>0</td>\n",
       "      <td>1</td>\n",
       "      <td>0</td>\n",
       "      <td>225.0</td>\n",
       "      <td>150.0</td>\n",
       "      <td>95.0</td>\n",
       "      <td>28.58</td>\n",
       "      <td>65.0</td>\n",
       "      <td>103.0</td>\n",
       "      <td>1</td>\n",
       "    </tr>\n",
       "    <tr>\n",
       "      <th>4</th>\n",
       "      <td>0</td>\n",
       "      <td>46</td>\n",
       "      <td>3.0</td>\n",
       "      <td>1</td>\n",
       "      <td>23.0</td>\n",
       "      <td>0.0</td>\n",
       "      <td>0</td>\n",
       "      <td>0</td>\n",
       "      <td>0</td>\n",
       "      <td>285.0</td>\n",
       "      <td>130.0</td>\n",
       "      <td>84.0</td>\n",
       "      <td>23.10</td>\n",
       "      <td>85.0</td>\n",
       "      <td>85.0</td>\n",
       "      <td>0</td>\n",
       "    </tr>\n",
       "  </tbody>\n",
       "</table>\n",
       "</div>"
      ],
      "text/plain": [
       "   male  age  education  currentSmoker  cigsPerDay  BPMeds  prevalentStroke  \\\n",
       "0     1   39        4.0              0         0.0     0.0                0   \n",
       "1     0   46        2.0              0         0.0     0.0                0   \n",
       "2     1   48        1.0              1        20.0     0.0                0   \n",
       "3     0   61        3.0              1        30.0     0.0                0   \n",
       "4     0   46        3.0              1        23.0     0.0                0   \n",
       "\n",
       "   prevalentHyp  diabetes  totChol  sysBP  diaBP    BMI  heartRate  glucose  \\\n",
       "0             0         0    195.0  106.0   70.0  26.97       80.0     77.0   \n",
       "1             0         0    250.0  121.0   81.0  28.73       95.0     76.0   \n",
       "2             0         0    245.0  127.5   80.0  25.34       75.0     70.0   \n",
       "3             1         0    225.0  150.0   95.0  28.58       65.0    103.0   \n",
       "4             0         0    285.0  130.0   84.0  23.10       85.0     85.0   \n",
       "\n",
       "   TenYearCHD  \n",
       "0           0  \n",
       "1           0  \n",
       "2           0  \n",
       "3           1  \n",
       "4           0  "
      ]
     },
     "execution_count": 13,
     "metadata": {},
     "output_type": "execute_result"
    }
   ],
   "source": [
    "df=pd.read_csv('F:/SoC/framingham.csv')\n",
    "df.head()"
   ]
  },
  {
   "cell_type": "code",
   "execution_count": 15,
   "id": "3661dc8f-d5bb-4ebc-a03d-06df5fe3154f",
   "metadata": {},
   "outputs": [
    {
     "data": {
      "text/plain": [
       "(4238, 16)"
      ]
     },
     "execution_count": 15,
     "metadata": {},
     "output_type": "execute_result"
    }
   ],
   "source": [
    "df.shape"
   ]
  },
  {
   "cell_type": "markdown",
   "id": "c05064da",
   "metadata": {},
   "source": [
    "<h1>Processing the Data</h1>"
   ]
  },
  {
   "cell_type": "code",
   "execution_count": 17,
   "id": "5a380288-eaa5-4f83-9bb7-ece9c8b01220",
   "metadata": {},
   "outputs": [],
   "source": [
    "df=df.dropna()"
   ]
  },
  {
   "cell_type": "code",
   "execution_count": 19,
   "id": "298d7989-c9b7-42a7-9976-f18a56a2449c",
   "metadata": {},
   "outputs": [
    {
     "data": {
      "text/plain": [
       "(3656, 16)"
      ]
     },
     "execution_count": 19,
     "metadata": {},
     "output_type": "execute_result"
    }
   ],
   "source": [
    "df.shape"
   ]
  },
  {
   "cell_type": "code",
   "execution_count": 21,
   "id": "c74c3d1e-a6b7-44bf-a814-1d6c620a3c7b",
   "metadata": {},
   "outputs": [],
   "source": [
    "y=df['TenYearCHD']\n",
    "y=y.to_numpy()"
   ]
  },
  {
   "cell_type": "code",
   "execution_count": 23,
   "id": "837f21c7-a092-4252-9c94-227f2740258c",
   "metadata": {},
   "outputs": [],
   "source": [
    "X=df.drop(columns=['TenYearCHD'])\n",
    "X=X.to_numpy()"
   ]
  },
  {
   "cell_type": "code",
   "execution_count": 25,
   "id": "62526d27-a08b-4317-8c0f-333279aafdc1",
   "metadata": {},
   "outputs": [
    {
     "data": {
      "text/plain": [
       "(3656, 15)"
      ]
     },
     "execution_count": 25,
     "metadata": {},
     "output_type": "execute_result"
    }
   ],
   "source": [
    "X.shape"
   ]
  },
  {
   "cell_type": "code",
   "execution_count": 27,
   "id": "738639c4-824c-49dd-b2b5-52ed39f4aa26",
   "metadata": {},
   "outputs": [],
   "source": [
    "scaler=StandardScaler()"
   ]
  },
  {
   "cell_type": "code",
   "execution_count": 29,
   "id": "04adfa32-74b4-402e-b4df-a1fbaae7f361",
   "metadata": {},
   "outputs": [
    {
     "data": {
      "text/plain": [
       "array([[ 1.11982472, -1.23335117,  1.97575158, ...,  0.29168785,\n",
       "         0.35633992, -0.20312694],\n",
       "       [-0.8929969 , -0.41559058,  0.01979497, ...,  0.7246142 ,\n",
       "         1.60828949, -0.24495595],\n",
       "       [ 1.11982472, -0.1819447 , -0.95818334, ..., -0.10926099,\n",
       "        -0.06097661, -0.49592996],\n",
       "       ...,\n",
       "       [ 1.11982472,  0.05170118, -0.95818334, ...,  0.04570696,\n",
       "        -0.81214636,  0.17333408],\n",
       "       [ 1.11982472,  0.16852412,  0.99777327, ..., -1.49413337,\n",
       "        -0.89560966, -0.57958797],\n",
       "       [-0.8929969 ,  0.28534706,  0.01979497, ..., -1.06120701,\n",
       "         0.35633992,  1.05174313]])"
      ]
     },
     "execution_count": 29,
     "metadata": {},
     "output_type": "execute_result"
    }
   ],
   "source": [
    "X=scaler.fit_transform(X)\n",
    "X"
   ]
  },
  {
   "cell_type": "code",
   "execution_count": 31,
   "id": "5dda05b0-513f-4956-bde0-1215ca6357d0",
   "metadata": {},
   "outputs": [],
   "source": [
    "ones_column = np.ones((X.shape[0], 1))\n",
    "X = np.hstack((X, ones_column))"
   ]
  },
  {
   "cell_type": "code",
   "execution_count": 33,
   "id": "f648fdc0-2e52-4115-b22e-6492edf28460",
   "metadata": {},
   "outputs": [
    {
     "data": {
      "text/plain": [
       "array([[ 1.11982472, -1.23335117,  1.97575158, ...,  0.35633992,\n",
       "        -0.20312694,  1.        ],\n",
       "       [-0.8929969 , -0.41559058,  0.01979497, ...,  1.60828949,\n",
       "        -0.24495595,  1.        ],\n",
       "       [ 1.11982472, -0.1819447 , -0.95818334, ..., -0.06097661,\n",
       "        -0.49592996,  1.        ],\n",
       "       ...,\n",
       "       [ 1.11982472,  0.05170118, -0.95818334, ..., -0.81214636,\n",
       "         0.17333408,  1.        ],\n",
       "       [ 1.11982472,  0.16852412,  0.99777327, ..., -0.89560966,\n",
       "        -0.57958797,  1.        ],\n",
       "       [-0.8929969 ,  0.28534706,  0.01979497, ...,  0.35633992,\n",
       "         1.05174313,  1.        ]])"
      ]
     },
     "execution_count": 33,
     "metadata": {},
     "output_type": "execute_result"
    }
   ],
   "source": [
    "X"
   ]
  },
  {
   "cell_type": "markdown",
   "id": "bed8a699",
   "metadata": {},
   "source": [
    "<h1>Dividing the Data into Training and Test sets.</h1>"
   ]
  },
  {
   "cell_type": "code",
   "execution_count": 35,
   "id": "920f923e-b77b-4eb5-a7ae-1d85530b6e85",
   "metadata": {},
   "outputs": [],
   "source": [
    "X_train, X_test, y_train, y_test=train_test_split(X,y,test_size=0.30,random_state=69)"
   ]
  },
  {
   "cell_type": "code",
   "execution_count": 37,
   "id": "1905d4dc-8aac-4026-aa71-db17915dc294",
   "metadata": {},
   "outputs": [],
   "source": [
    "#we shall use the rest things in the same way as linear regression. "
   ]
  },
  {
   "cell_type": "code",
   "execution_count": 39,
   "id": "fd89e3a8-b673-4412-8df5-07d96cca44cc",
   "metadata": {},
   "outputs": [],
   "source": [
    "def sigmoid(z):\n",
    "    return 1/(1+np.exp(-(z)))"
   ]
  },
  {
   "cell_type": "code",
   "execution_count": 41,
   "id": "d6de01f2-4f4a-4733-9aa1-b9b7e931dff1",
   "metadata": {},
   "outputs": [],
   "source": [
    "def hypothesis(X,theta):\n",
    "    y_predicted=sigmoid(np.dot(X,theta))\n",
    "    return y_predicted           "
   ]
  },
  {
   "cell_type": "markdown",
   "id": "71b836b4",
   "metadata": {},
   "source": [
    "<h1>Applying Gradient Descent.</h1>"
   ]
  },
  {
   "cell_type": "code",
   "execution_count": 43,
   "id": "4c0307bc-731f-4396-b1ec-766e5d2c0ee7",
   "metadata": {},
   "outputs": [],
   "source": [
    "def gradient_descent(X,y_actual,theta,alpha,num_iterations):\n",
    "    num=y_actual.shape[0]\n",
    "    \n",
    "\n",
    "    for i in range(num_iterations):\n",
    "        predictions=hypothesis(X,theta)\n",
    "        error=predictions-y_actual\n",
    "        gradient=(1/num)*np.dot(X.T,error)\n",
    "        theta-=alpha*gradient\n",
    "    "
   ]
  },
  {
   "cell_type": "code",
   "execution_count": 45,
   "id": "b1c39acc-3a5e-460e-ab60-174bb114ac35",
   "metadata": {},
   "outputs": [],
   "source": [
    "theta=np.zeros(X_train.shape[1])\n",
    "gradient_descent(X_train,y_train,theta,0.01,10000)"
   ]
  },
  {
   "cell_type": "code",
   "execution_count": 79,
   "id": "e5812687-8e25-4648-8545-71d982f1e9eb",
   "metadata": {},
   "outputs": [],
   "source": [
    "predicted_y=hypothesis(X_test,theta)\n",
    "for i in range(predicted_y.shape[0]):\n",
    "    if predicted_y[i]>=0.16:\n",
    "        predicted_y[i]=1\n",
    "    else:\n",
    "        predicted_y[i]=0\n",
    "false_negatives=0\n",
    "true_negatives=0\n",
    "false_positives=0\n",
    "true_positives=0\n",
    "for i in range(predicted_y.shape[0]):\n",
    "    if y_test[i]==1 and predicted_y[i]==0:\n",
    "        false_negatives+=1\n",
    "    if y_test[i]==0 and predicted_y[i]==0:\n",
    "        true_negatives+=1\n",
    "    if y_test[i]==0 and predicted_y[i]==1:\n",
    "        false_positives+=1\n",
    "    if y_test[i]==1 and predicted_y[i]==1:\n",
    "        true_positives+=1\n",
    "overall_accuracy=((true_negatives+true_positives)/predicted_y.shape[0])*100\n",
    "false_negatives_perc=(false_negatives/(true_positives+false_negatives))*100\n",
    "false_positives_perc=(false_positives/(true_negatives+false_positives))*100\n",
    "    "
   ]
  },
  {
   "cell_type": "markdown",
   "id": "26aa2887",
   "metadata": {},
   "source": [
    "<h1>\n",
    "Evaluating the Model\n",
    "</h1>"
   ]
  },
  {
   "cell_type": "code",
   "execution_count": 81,
   "id": "f9164c86-284b-40e7-9edc-81997e504aff",
   "metadata": {},
   "outputs": [
    {
     "name": "stdout",
     "output_type": "stream",
     "text": [
      "Overall Accuracy of the model is : 70.55606198723791\n",
      "Percentage of False Negatives is : 32.947976878612714\n",
      "Percentage of False Positives is : 28.78787878787879\n"
     ]
    }
   ],
   "source": [
    "print(\"Overall Accuracy of the model is :\",overall_accuracy)\n",
    "print(\"Percentage of False Negatives is :\",false_negatives_perc)\n",
    "print(\"Percentage of False Positives is :\",false_positives_perc)"
   ]
  }
 ],
 "metadata": {
  "kernelspec": {
   "display_name": "Python 3 (ipykernel)",
   "language": "python",
   "name": "python3"
  },
  "language_info": {
   "codemirror_mode": {
    "name": "ipython",
    "version": 3
   },
   "file_extension": ".py",
   "mimetype": "text/x-python",
   "name": "python",
   "nbconvert_exporter": "python",
   "pygments_lexer": "ipython3",
   "version": "3.11.7"
  }
 },
 "nbformat": 4,
 "nbformat_minor": 5
}
